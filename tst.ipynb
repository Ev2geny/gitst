{
 "cells": [
  {
   "cell_type": "code",
   "execution_count": null,
   "metadata": {},
   "outputs": [],
   "source": [
    "def hidden():\n",
    "    print(\"This is a hidden function\")\n",
    "    print(\"This is a hidden function\")\n",
    "    "
   ]
  },
  {
   "cell_type": "code",
   "execution_count": null,
   "metadata": {},
   "outputs": [],
   "source": [
    "def main():\n",
    "    print(\"This is a main function\")\n",
    "    print(\"This is a main function\")\n",
    "    hidden()\n",
    "    print(\"This is a main function\")\n",
    "    print(\"This is a main function\")"
   ]
  }
 ],
 "metadata": {
  "language_info": {
   "name": "python"
  }
 },
 "nbformat": 4,
 "nbformat_minor": 2
}
